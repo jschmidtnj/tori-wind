{
 "cells": [
  {
   "cell_type": "code",
   "execution_count": 2,
   "metadata": {},
   "outputs": [
    {
     "name": "stdout",
     "output_type": "stream",
     "text": [
      "               variable_name  pressure  temperature  wind_speed  \\\n",
      "0                     height       0.0         2.00    10.00000   \n",
      "1  2010-01-01 00:00:00+01:00   98405.7       267.60     5.32697   \n",
      "2  2010-01-01 01:00:00+01:00   98382.7       267.60     5.46199   \n",
      "3  2010-01-01 02:00:00+01:00   98362.9       267.61     5.67899   \n",
      "4  2010-01-01 03:00:00+01:00   98340.9       267.63     5.68466   \n",
      "\n",
      "   roughness_length  temperature.1  wind_speed.1  \n",
      "0              0.00          10.00      80.00000  \n",
      "1              0.15         267.57       7.80697  \n",
      "2              0.15         267.55       7.86199  \n",
      "3              0.15         267.54       8.59899  \n",
      "4              0.15         267.56       7.89466  \n"
     ]
    }
   ],
   "source": [
    "import pandas as pd\n",
    "\n",
    "df_123=pd.read_csv('weather.csv')\n",
    "\n",
    "with pd.option_context('display.max_columns', None):  # more options can be specified also\n",
    "    print(df_123.head())"
   ]
  }
 ],
 "metadata": {
  "kernelspec": {
   "display_name": "Python 3.9.12 ('wind')",
   "language": "python",
   "name": "python3"
  },
  "language_info": {
   "codemirror_mode": {
    "name": "ipython",
    "version": 3
   },
   "file_extension": ".py",
   "mimetype": "text/x-python",
   "name": "python",
   "nbconvert_exporter": "python",
   "pygments_lexer": "ipython3",
   "version": "3.9.12"
  },
  "orig_nbformat": 4,
  "vscode": {
   "interpreter": {
    "hash": "ac842cf3eb280033b061ce18dedde2fb0171681f889a4acab591c9abae1be706"
   }
  }
 },
 "nbformat": 4,
 "nbformat_minor": 2
}
